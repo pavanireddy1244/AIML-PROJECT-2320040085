{
  "nbformat": 4,
  "nbformat_minor": 0,
  "metadata": {
    "colab": {
      "provenance": []
    },
    "kernelspec": {
      "name": "python3",
      "display_name": "Python 3"
    },
    "language_info": {
      "name": "python"
    }
  },
  "cells": [
    {
      "cell_type": "code",
      "execution_count": null,
      "metadata": {
        "colab": {
          "base_uri": "https://localhost:8080/"
        },
        "id": "aOV_iN5IksRm",
        "outputId": "eeb68c88-0390-4f38-9779-e009048b0229"
      },
      "outputs": [
        {
          "output_type": "stream",
          "name": "stdout",
          "text": [
            "Solution found:\n",
            "Node 0: Color 1\n",
            "Node 1: Color 2\n",
            "Node 2: Color 3\n",
            "Node 3: Color 2\n"
          ]
        }
      ],
      "source": [
        "def is_safe(graph, colors, node, color):\n",
        "  for neighbor in graph[node]:\n",
        "    if colors[neighbor] == color:\n",
        "      return False\n",
        "  return True\n",
        "\n",
        "def graph_coloring(graph, num_colors):\n",
        "  colors = [-1] * len(graph)\n",
        "  if _graph_coloring_util(graph, num_colors, colors, 0):\n",
        "    return colors\n",
        "  else:\n",
        "    return None\n",
        "\n",
        "def _graph_coloring_util(graph, num_colors, colors, node):\n",
        "  if node == len(graph):\n",
        "    return True\n",
        "  for color in range(1, num_colors + 1):\n",
        "    if is_safe(graph, colors, node, color):\n",
        "      colors[node] = color\n",
        "      if _graph_coloring_util(graph, num_colors, colors, node + 1):\n",
        "        return True\n",
        "      colors[node] = -1\n",
        "  return False\n",
        "\n",
        "# Example usage:\n",
        "graph = {\n",
        "    0: [1, 2, 3],\n",
        "    1: [0, 2],\n",
        "    2: [0, 1, 3],\n",
        "    3: [0, 2]\n",
        "}\n",
        "num_colors = 4\n",
        "colors = graph_coloring(graph, num_colors)\n",
        "if colors:\n",
        "  print(\"Solution found:\")\n",
        "  for i, color in enumerate(colors):\n",
        "    print(f\"Node {i}: Color {color}\")\n",
        "else:\n",
        "  print(\"No solution found.\")"
      ]
    }
  ]
}