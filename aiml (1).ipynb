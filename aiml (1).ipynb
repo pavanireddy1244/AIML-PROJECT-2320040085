{
  "nbformat": 4,
  "nbformat_minor": 0,
  "metadata": {
    "colab": {
      "provenance": []
    },
    "kernelspec": {
      "name": "python3",
      "display_name": "Python 3"
    },
    "language_info": {
      "name": "python"
    }
  },
  "cells": [
    {
      "cell_type": "markdown",
      "source": [
        "Uninformed search technique\n",
        "BFS\n",
        "DFS\n",
        "ITDFS\n",
        "different node values"
      ],
      "metadata": {
        "id": "gh3Xov1xVeQ3"
      }
    },
    {
      "cell_type": "markdown",
      "source": [
        "Informed search technique\n",
        "A*\n",
        "Best first search\n",
        "different heuristic values"
      ],
      "metadata": {
        "id": "_6oejwgPVxy1"
      }
    },
    {
      "cell_type": "markdown",
      "source": [
        "Adversal search technique\n",
        "Min Max\n",
        "aplha beta pruning\n",
        "utility values different"
      ],
      "metadata": {
        "id": "9tGxobOyV6kK"
      }
    },
    {
      "cell_type": "code",
      "execution_count": null,
      "metadata": {
        "id": "Hn5LsXjWVbRB",
        "colab": {
          "base_uri": "https://localhost:8080/"
        },
        "outputId": "6837f94f-f44e-4b99-90d5-237d10bc07c3"
      },
      "outputs": [
        {
          "output_type": "stream",
          "name": "stdout",
          "text": [
            "M N P Q R S T "
          ]
        }
      ],
      "source": [
        "#bfs\n",
        "graph = {\n",
        "    'M': ['N', 'P', 'Q'],\n",
        "    'N': ['M','R'],\n",
        "    'P': ['M', 'S','T'],\n",
        "    'R':[],\n",
        "    'Q':[],\n",
        "    'T':[],\n",
        "    'S':[],\n",
        "\n",
        "    }\n",
        "queue = []\n",
        "\n",
        "def bfs(node):\n",
        "    visited = [False] * (len(graph))\n",
        "    visited.append(node)\n",
        "    queue.append(node)\n",
        "    while queue:\n",
        "        v = queue.pop(0)\n",
        "        print(v, end=\" \")\n",
        "\n",
        "        for neigh in graph[v]:\n",
        "            if neigh not in visited:\n",
        "                visited.append(neigh)\n",
        "                queue.append(neigh)\n",
        "\n",
        "# Use __name__ to check if script is run as main program\n",
        "if __name__ == \"__main__\":\n",
        "    bfs('M')"
      ]
    },
    {
      "cell_type": "code",
      "source": [
        "# dfs\n",
        "graph = {\n",
        "        'M': ['N', 'P', 'Q'],\n",
        "    'N': ['M','R'],\n",
        "    'P': ['M', 'S','T'],\n",
        "    'R':[],\n",
        "    'Q':[],\n",
        "    'T':[],\n",
        "    'S':[],\n",
        "}\n",
        "visited = set()\n",
        "\n",
        "def dfs(visited, graph, node):\n",
        "    if node not in visited:\n",
        "        print (node)\n",
        "        visited.add(node)\n",
        "        for neighbour in graph[node]:\n",
        "            dfs(visited, graph, neighbour)\n",
        "dfs(visited, graph, 'M')"
      ],
      "metadata": {
        "id": "zvkjSp2dVv4f",
        "colab": {
          "base_uri": "https://localhost:8080/"
        },
        "outputId": "dfc65b89-d89e-4568-fcb7-d6f22a9ce400"
      },
      "execution_count": null,
      "outputs": [
        {
          "output_type": "stream",
          "name": "stdout",
          "text": [
            "M\n",
            "N\n",
            "R\n",
            "P\n",
            "S\n",
            "T\n",
            "Q\n"
          ]
        }
      ]
    },
    {
      "cell_type": "code",
      "source": [
        "#ITDFS\n",
        "graph = {\n",
        "    'M': ['N', 'P', 'Q'],\n",
        "    'N': ['M','R'],\n",
        "    'P': ['M', 'S','T'],\n",
        "    'R':[],\n",
        "    'Q':[],\n",
        "    'T':[],\n",
        "    'S':[],\n",
        "}\n",
        "\n",
        "path = list()\n",
        "\n",
        "def DFS(currentNode,destination,graph,maxDepth,curList):\n",
        "    print(\"Checking for destination\",currentNode)\n",
        "    curList.append(currentNode)\n",
        "    if currentNode==destination:\n",
        "        return True\n",
        "    if maxDepth<=0:\n",
        "        path.append(curList)\n",
        "        return False\n",
        "    for node in graph[currentNode]:\n",
        "        if DFS(node,destination,graph,maxDepth-1,curList):\n",
        "            return True\n",
        "        else:\n",
        "            curList.pop()\n",
        "    return False\n",
        "\n",
        "def iterativeDDFS(currentNode,destination,graph,maxDepth):\n",
        "    for i in range(maxDepth):\n",
        "        curList = list()\n",
        "        if DFS(currentNode,destination,graph,i,curList):\n",
        "            return True\n",
        "    return False\n",
        "\n",
        "if not iterativeDDFS('M','S',graph,4):\n",
        "    print(\"Path is not available\")\n",
        "else:\n",
        "    print(\"A path exists\")\n",
        "    print(path.pop())"
      ],
      "metadata": {
        "colab": {
          "base_uri": "https://localhost:8080/"
        },
        "id": "WeWCAurWVmz_",
        "outputId": "bd3bfaa5-adc9-4184-8e64-db416ce6e6da"
      },
      "execution_count": null,
      "outputs": [
        {
          "output_type": "stream",
          "name": "stdout",
          "text": [
            "Checking for destination M\n",
            "Checking for destination M\n",
            "Checking for destination N\n",
            "Checking for destination P\n",
            "Checking for destination Q\n",
            "Checking for destination M\n",
            "Checking for destination N\n",
            "Checking for destination M\n",
            "Checking for destination R\n",
            "Checking for destination P\n",
            "Checking for destination M\n",
            "Checking for destination S\n",
            "A path exists\n",
            "['M', 'P', 'S']\n"
          ]
        }
      ]
    },
    {
      "cell_type": "code",
      "source": [
        "#BEST FIRST SEARCH\n",
        "SuccList ={\n",
        "\t\t'A': [['B', 1], ['C', 4]],\n",
        "    'B': [['D', 2], ['E', 5]],\n",
        "    'C': [['F', 3]],\n",
        "    'D': [['G', 6]],\n",
        "    'E': [['H', 2]],\n",
        "    'F': [['I', 2]],\n",
        "    'G': [['J', 1]],\n",
        "    'H': [['J', 3]],\n",
        "    'I': [['J', 1]]}\n",
        "Start='A'\n",
        "Goal='E'\n",
        "Closed = list()\n",
        "SUCCESS=True\n",
        "FAILURE=False\n",
        "State=FAILURE\n",
        "\n",
        "def MOVEGEN(N):\n",
        "\tNew_list=list()\n",
        "\tif N in SuccList.keys():\n",
        "\t\tNew_list=SuccList[N]\n",
        "\n",
        "\treturn New_list\n",
        "\n",
        "def GOALTEST(N):\n",
        "\tif N == Goal:\n",
        "\t\treturn True\n",
        "\telse:\n",
        "\t\treturn False\n",
        "\n",
        "def APPEND(L1,L2):\n",
        "\tNew_list=list(L1)+list(L2)\n",
        "\treturn New_list\n",
        "\n",
        "def SORT(L):\n",
        "\tL.sort(key = lambda x: x[1])\n",
        "\treturn L\n",
        "\n",
        "def BestFirstSearch():\n",
        "\tOPEN=[[Start,5]]\n",
        "\tCLOSED=list()\n",
        "\tglobal State\n",
        "\tglobal Closed\n",
        "\twhile (len(OPEN) != 0) and (State != SUCCESS):\n",
        "\t\tprint(\"------------\")\n",
        "\t\tN= OPEN[0]\n",
        "\t\tprint(\"N=\",N)\n",
        "\t\tdel OPEN[0] #delete the node we picked\n",
        "\n",
        "\t\tif GOALTEST(N[0])==True:\n",
        "\t\t\tState = SUCCESS\n",
        "\t\t\tCLOSED = APPEND(CLOSED,[N])\n",
        "\t\t\tprint(\"CLOSED=\",CLOSED)\n",
        "\t\telse:\n",
        "\t\t\tCLOSED = APPEND(CLOSED,[N])\n",
        "\t\t\tprint(\"CLOSED=\",CLOSED)\n",
        "\t\t\tCHILD = MOVEGEN(N[0])\n",
        "\t\t\tprint(\"CHILD=\",CHILD)\n",
        "\t\t\tfor val in CLOSED:\n",
        "\t\t\t\tif val in CHILD:\n",
        "\t\t\t\t\tCHILD.remove(val)\n",
        "\t\t\tfor val in OPEN:\n",
        "\t\t\t\tif val in CHILD:\n",
        "\t\t\t\t\tCHILD.remove(val)\n",
        "\t\t\tOPEN = APPEND(CHILD,OPEN) #append movegen elements to OPEN\n",
        "\t\t\tprint(\"Unsorted OPEN=\",OPEN)\n",
        "\t\t\tSORT(OPEN)\n",
        "\t\t\tprint(\"Sorted OPEN=\",OPEN)\n",
        "\n",
        "\tClosed=CLOSED\n",
        "\treturn State\n",
        "\n",
        "#Driver Code\n",
        "result=BestFirstSearch() #call search algorithm\n",
        "print(Closed,result)"
      ],
      "metadata": {
        "colab": {
          "base_uri": "https://localhost:8080/"
        },
        "id": "gHpy-EeCW0-X",
        "outputId": "eb3e5bba-4b81-432f-8621-a3f2e29f3aba"
      },
      "execution_count": null,
      "outputs": [
        {
          "output_type": "stream",
          "name": "stdout",
          "text": [
            "------------\n",
            "N= ['A', 5]\n",
            "CLOSED= [['A', 5]]\n",
            "CHILD= [['B', 1], ['C', 4]]\n",
            "Unsorted OPEN= [['B', 1], ['C', 4]]\n",
            "Sorted OPEN= [['B', 1], ['C', 4]]\n",
            "------------\n",
            "N= ['B', 1]\n",
            "CLOSED= [['A', 5], ['B', 1]]\n",
            "CHILD= [['D', 2], ['E', 5]]\n",
            "Unsorted OPEN= [['D', 2], ['E', 5], ['C', 4]]\n",
            "Sorted OPEN= [['D', 2], ['C', 4], ['E', 5]]\n",
            "------------\n",
            "N= ['D', 2]\n",
            "CLOSED= [['A', 5], ['B', 1], ['D', 2]]\n",
            "CHILD= [['G', 6]]\n",
            "Unsorted OPEN= [['G', 6], ['C', 4], ['E', 5]]\n",
            "Sorted OPEN= [['C', 4], ['E', 5], ['G', 6]]\n",
            "------------\n",
            "N= ['C', 4]\n",
            "CLOSED= [['A', 5], ['B', 1], ['D', 2], ['C', 4]]\n",
            "CHILD= [['F', 3]]\n",
            "Unsorted OPEN= [['F', 3], ['E', 5], ['G', 6]]\n",
            "Sorted OPEN= [['F', 3], ['E', 5], ['G', 6]]\n",
            "------------\n",
            "N= ['F', 3]\n",
            "CLOSED= [['A', 5], ['B', 1], ['D', 2], ['C', 4], ['F', 3]]\n",
            "CHILD= [['I', 2]]\n",
            "Unsorted OPEN= [['I', 2], ['E', 5], ['G', 6]]\n",
            "Sorted OPEN= [['I', 2], ['E', 5], ['G', 6]]\n",
            "------------\n",
            "N= ['I', 2]\n",
            "CLOSED= [['A', 5], ['B', 1], ['D', 2], ['C', 4], ['F', 3], ['I', 2]]\n",
            "CHILD= [['J', 1]]\n",
            "Unsorted OPEN= [['J', 1], ['E', 5], ['G', 6]]\n",
            "Sorted OPEN= [['J', 1], ['E', 5], ['G', 6]]\n",
            "------------\n",
            "N= ['J', 1]\n",
            "CLOSED= [['A', 5], ['B', 1], ['D', 2], ['C', 4], ['F', 3], ['I', 2], ['J', 1]]\n",
            "CHILD= []\n",
            "Unsorted OPEN= [['E', 5], ['G', 6]]\n",
            "Sorted OPEN= [['E', 5], ['G', 6]]\n",
            "------------\n",
            "N= ['E', 5]\n",
            "CLOSED= [['A', 5], ['B', 1], ['D', 2], ['C', 4], ['F', 3], ['I', 2], ['J', 1], ['E', 5]]\n",
            "[['A', 5], ['B', 1], ['D', 2], ['C', 4], ['F', 3], ['I', 2], ['J', 1], ['E', 5]] True\n"
          ]
        }
      ]
    },
    {
      "cell_type": "code",
      "source": [
        "#A* SEARCH\n",
        "def a_star(graph, start, goal, h):\n",
        "    open_list = [(start, [start], 0)]\n",
        "    closed_list = []\n",
        "\n",
        "    while open_list:\n",
        "        open_list.sort(key=lambda x: x[2] + h[x[0]])\n",
        "        current_node, path, g_cost = open_list.pop(0)\n",
        "\n",
        "        if current_node == goal:\n",
        "            return path\n",
        "\n",
        "        closed_list.append(current_node)\n",
        "\n",
        "        for neighbor, cost in graph[current_node]:\n",
        "            if neighbor in closed_list:\n",
        "                continue\n",
        "\n",
        "            new_g_cost = g_cost + cost\n",
        "            open_list.append((neighbor, path + [neighbor], new_g_cost))\n",
        "\n",
        "    return None\n",
        "\n",
        "# Graph definition (node: [(neighbor, cost), ...])\n",
        "graph = {\n",
        "    'A': [('B', 2), ('C', 3)],\n",
        "    'B': [('D', 4), ('E', 1)],\n",
        "    'C': [('F', 5), ('G', 8)],\n",
        "    'D': [('H', 6)],\n",
        "    'E': [('I', 2), ('J', 3)],\n",
        "    'F': [('K', 7)],\n",
        "    'G': [('L', 9)],\n",
        "    'H': [],\n",
        "    'I': [('M', 4)],\n",
        "    'J': [],\n",
        "    'K': [],\n",
        "    'L': [],\n",
        "    'M': [],\n",
        "}\n",
        "\n",
        "h = {\n",
        "    'A': 10, 'B': 8, 'C': 5, 'D': 7, 'E': 4, 'F': 3, 'G': 6, 'H': 6, 'I': 2, 'J': 5, 'K': 4,\n",
        "    'L': 7, 'M': 0\n",
        "}\n",
        "\n",
        "# Perform A* search\n",
        "path_a_star = a_star(graph, 'A', 'M', h)\n",
        "print(f\"A* Path: {path_a_star}\")\n"
      ],
      "metadata": {
        "id": "GxUaJV69ZEX6",
        "colab": {
          "base_uri": "https://localhost:8080/"
        },
        "outputId": "2cd82303-61f7-4b00-c97d-65180c180fd2"
      },
      "execution_count": null,
      "outputs": [
        {
          "output_type": "stream",
          "name": "stdout",
          "text": [
            "A* Path: ['A', 'B', 'E', 'I', 'M']\n"
          ]
        }
      ]
    },
    {
      "cell_type": "code",
      "source": [
        "#MIN-MAX\n",
        "def min_max(graph, node, is_maximizing):\n",
        "    if node not in graph or not graph[node]:\n",
        "        return evaluate(node)\n",
        "\n",
        "    if is_maximizing:\n",
        "        best_value = float('-inf')\n",
        "        for child in graph[node]:\n",
        "            value = min_max(graph, child, False)\n",
        "            best_value = max(best_value, value)\n",
        "        return best_value\n",
        "    else:\n",
        "        best_value = float('inf')\n",
        "        for child in graph[node]:\n",
        "            value = min_max(graph, child, True)\n",
        "            best_value = min(best_value, value)\n",
        "        return best_value\n",
        "\n",
        "def evaluate(node):\n",
        "    goal_node = 'P'\n",
        "    if node == goal_node:\n",
        "        return 1  # Goal node (P) has the highest value\n",
        "    else:\n",
        "        return 0  # Other nodes have a value of 0\n",
        "\n",
        "graph = {\n",
        "\n",
        "    'A': ['B', 'C', 'D'],\n",
        "    'B': ['E', 'F'],\n",
        "    'C': ['G', 'H'],\n",
        "    'D': ['I'],\n",
        "    'E': ['J', 'K'],\n",
        "    'F': ['L', 'M'],  # 'M' is now the goal node\n",
        "    'G': ['N'],\n",
        "    'H': ['O'],\n",
        "    'I': ['P', 'Q'],\n",
        "    'J': [],\n",
        "    'K': [],\n",
        "    'L': [],\n",
        "    'M': [],  # 'M' is the leaf node\n",
        "    'N': [],\n",
        "    'O': [],\n",
        "    'P': [],\n",
        "    'Q': []\n",
        "}\n",
        "\n",
        "# Perform Min-Max search starting from node 'A'\n",
        "result = min_max(graph, 'A', True)\n",
        "print(f\"Min-Max Result: {result}\")"
      ],
      "metadata": {
        "colab": {
          "base_uri": "https://localhost:8080/"
        },
        "id": "lFPG86uRgDze",
        "outputId": "2762c2e3-9d8d-47ce-ad25-b16f22e86f14"
      },
      "execution_count": null,
      "outputs": [
        {
          "output_type": "stream",
          "name": "stdout",
          "text": [
            "Min-Max Result: 1\n"
          ]
        }
      ]
    },
    {
      "cell_type": "code",
      "source": [
        "#alpha-beta pruning\n",
        "def alpha_beta(graph, node, depth, alpha, beta, is_maximizing):\n",
        "    if node not in graph or not graph[node]:\n",
        "        return evaluate(node)\n",
        "\n",
        "    if is_maximizing:\n",
        "        best_value = float('-inf')\n",
        "        for child in graph[node]:\n",
        "            value = alpha_beta(graph, child, depth + 1, alpha, beta, False)\n",
        "            best_value = max(best_value, value)\n",
        "            alpha = max(alpha, best_value)\n",
        "            if beta <= alpha:\n",
        "                break  # Beta cutoff\n",
        "        return best_value\n",
        "    else:\n",
        "        best_value = float('inf')\n",
        "        for child in graph[node]:\n",
        "            value = alpha_beta(graph, child, depth + 1, alpha, beta, True)\n",
        "            best_value = min(best_value, value)\n",
        "            beta = min(beta, best_value)\n",
        "            if beta <= alpha:\n",
        "                break  # Alpha cutoff\n",
        "        return best_value\n",
        "\n",
        "def evaluate(node):\n",
        "    goal_node = 'P'\n",
        "    if node == goal_node:\n",
        "        return 1  # Goal node (P) has the highest value\n",
        "    else:\n",
        "        return 0  # Other nodes have a value of 0\n",
        "\n",
        "# Graph definition\n",
        "graph = {\n",
        "       'A': ['B', 'C', 'D'],\n",
        "    'B': ['E', 'F'],\n",
        "    'C': ['G', 'H'],\n",
        "    'D': ['I'],\n",
        "    'E': ['J', 'K'],\n",
        "    'F': ['L', 'M'],  # 'M' is now the goal node\n",
        "    'G': ['N'],\n",
        "    'H': ['O'],\n",
        "    'I': ['P', 'Q'],\n",
        "    'J': [],\n",
        "    'K': [],\n",
        "    'L': [],\n",
        "    'M': [],  # 'M' is the leaf node\n",
        "    'N': [],\n",
        "    'O': [],\n",
        "    'P': [],\n",
        "    'Q': []\n",
        "\n",
        "}\n",
        "\n",
        "# Perform Alpha-Beta search starting from node 'A'\n",
        "result = alpha_beta(graph, 'A', 0, float('-inf'), float('inf'), True)\n",
        "print(f\"Alpha-Beta Result: {result}\")\n"
      ],
      "metadata": {
        "colab": {
          "base_uri": "https://localhost:8080/"
        },
        "id": "eH2e0Ge9grvV",
        "outputId": "1d56dd36-e750-4207-9c15-13507937a0cc"
      },
      "execution_count": null,
      "outputs": [
        {
          "output_type": "stream",
          "name": "stdout",
          "text": [
            "Alpha-Beta Result: 1\n"
          ]
        }
      ]
    }
  ]
}